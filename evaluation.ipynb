{
 "cells": [
  {
   "cell_type": "code",
   "execution_count": 1,
   "metadata": {},
   "outputs": [
    {
     "name": "stdout",
     "output_type": "stream",
     "text": [
      "Collecting pascal-voc-writer\n",
      "  Downloading https://files.pythonhosted.org/packages/9d/82/dd86999e6062fc34478f11ead7a68e6615d7e270b39624547edd1dbaba76/pascal_voc_writer-0.1.4-py2.py3-none-any.whl\n",
      "Requirement already satisfied: jinja2 in /usr/local/lib/python3.6/dist-packages (from pascal-voc-writer) (2.10.1)\n",
      "Requirement already satisfied: MarkupSafe>=0.23 in /usr/local/lib/python3.6/dist-packages (from jinja2->pascal-voc-writer) (1.1.1)\n",
      "Installing collected packages: pascal-voc-writer\n",
      "Successfully installed pascal-voc-writer-0.1.4\n",
      "\u001b[33mWARNING: You are using pip version 19.2.3, however version 19.3.1 is available.\n",
      "You should consider upgrading via the 'pip install --upgrade pip' command.\u001b[0m\n"
     ]
    }
   ],
   "source": [
    "!pip install pascal-voc-writer"
   ]
  },
  {
   "cell_type": "code",
   "execution_count": 29,
   "metadata": {},
   "outputs": [],
   "source": [
    "import argparse\n",
    "import json\n",
    "import cv2\n",
    "import numpy as np\n",
    "from yolo.frontend import create_yolo\n",
    "from yolo.backend.utils.box import draw_scaled_boxes\n",
    "from yolo.backend.utils.annotation import parse_annotation\n",
    "from yolo.backend.utils.eval.fscore import count_true_positives, calc_score\n",
    "\n",
    "from pascal_voc_writer import Writer\n",
    "from shutil import copyfile\n",
    "import os\n",
    "import yolo"
   ]
  },
  {
   "cell_type": "code",
   "execution_count": 30,
   "metadata": {},
   "outputs": [],
   "source": [
    "evaluation_object = \"brio\"\n",
    "DEFAULT_CONFIG_FILE = evaluation_object + \"/config.json\"\n",
    "DEFAULT_WEIGHT_FILE = evaluation_object + \"/weights.h5\"\n",
    "DEFAULT_THRESHOLD = 0.30\n",
    "\n",
    "with open(DEFAULT_CONFIG_FILE) as config_buffer:\n",
    "    config = json.loads(config_buffer.read())\n"
   ]
  },
  {
   "cell_type": "code",
   "execution_count": 31,
   "metadata": {},
   "outputs": [],
   "source": [
    "def create_ann(filename, image, boxes, labels,label_list):\n",
    "    if not os.path.exists('evaluation/imgs/'):\n",
    "        os.makedirs('evaluation/imgs/')\n",
    "    if not os.path.exists('evaluation/ann/'):\n",
    "        os.makedirs('evaluation/ann/')\n",
    "    copyfile(os.path.join('datasets', evaluation_object, 'images_test', filename), 'evaluation/imgs/' + filename)\n",
    "    \n",
    "    writer = Writer(os.path.join('datasets', evaluation_object, 'images_test', filename), 224, 224)\n",
    "    writer.addObject(label_list[labels[0]], boxes[0][0], boxes[0][1], boxes[0][2], boxes[0][3])\n",
    "    name = filename.split('.')\n",
    "    writer.save('evaluation/ann/' + name[0] + '.xml')"
   ]
  },
  {
   "cell_type": "code",
   "execution_count": 32,
   "metadata": {
    "scrolled": true
   },
   "outputs": [
    {
     "name": "stdout",
     "output_type": "stream",
     "text": [
      "Model: \"model_19\"\n",
      "_________________________________________________________________\n",
      "Layer (type)                 Output Shape              Param #   \n",
      "=================================================================\n",
      "input_19 (InputLayer)        [(None, 224, 224, 3)]     0         \n",
      "_________________________________________________________________\n",
      "mobilenet_0.75_224 (Model)   (None, 7, 7, 768)         1832976   \n",
      "_________________________________________________________________\n",
      "detection_layer_30 (Conv2D)  (None, 7, 7, 30)          23070     \n",
      "_________________________________________________________________\n",
      "reshape_9 (Reshape)          (None, 7, 7, 5, 6)        0         \n",
      "=================================================================\n",
      "Total params: 1,856,046\n",
      "Trainable params: 1,839,630\n",
      "Non-trainable params: 16,416\n",
      "_________________________________________________________________\n",
      "Loading pre-trained weights in brio/weights.h5\n",
      "1-boxes are detected. evaluation/detected/brio_5.jpg saved.\n",
      "1-boxes are detected. evaluation/detected/brio_33.jpg saved.\n",
      "1-boxes are detected. evaluation/detected/brio_26.jpg saved.\n",
      "0-boxes are detected. evaluation/detected/brio_44.jpg saved.\n",
      "1-boxes are detected. evaluation/detected/brio_3.jpg saved.\n",
      "0-boxes are detected. evaluation/detected/brio_34.jpg saved.\n",
      "0-boxes are detected. evaluation/detected/brio_45.jpg saved.\n",
      "0-boxes are detected. evaluation/detected/brio_2.jpg saved.\n",
      "0-boxes are detected. evaluation/detected/brio_29.jpg saved.\n",
      "0-boxes are detected. evaluation/detected/brio_18.jpg saved.\n",
      "1-boxes are detected. evaluation/detected/brio_49.jpg saved.\n",
      "1-boxes are detected. evaluation/detected/brio_57.jpg saved.\n",
      "0-boxes are detected. evaluation/detected/brio_38.jpg saved.\n",
      "1-boxes are detected. evaluation/detected/brio_17.jpg saved.\n",
      "0-boxes are detected. evaluation/detected/brio_69.jpg saved.\n",
      "1-boxes are detected. evaluation/detected/brio_10.jpg saved.\n",
      "1-boxes are detected. evaluation/detected/brio_4.jpg saved.\n",
      "0-boxes are detected. evaluation/detected/brio_37.jpg saved.\n",
      "1-boxes are detected. evaluation/detected/brio_24.jpg saved.\n",
      "1-boxes are detected. evaluation/detected/brio_20.jpg saved.\n",
      "0-boxes are detected. evaluation/detected/brio_67.jpg saved.\n",
      "1-boxes are detected. evaluation/detected/brio_21.jpg saved.\n",
      "1-boxes are detected. evaluation/detected/brio_27.jpg saved.\n",
      "0-boxes are detected. evaluation/detected/brio_56.jpg saved.\n",
      "1-boxes are detected. evaluation/detected/brio_71.jpg saved.\n",
      "1-boxes are detected. evaluation/detected/brio_61.jpg saved.\n",
      "0-boxes are detected. evaluation/detected/brio_11.jpg saved.\n",
      "0-boxes are detected. evaluation/detected/brio_54.jpg saved.\n",
      "0-boxes are detected. evaluation/detected/brio_66.jpg saved.\n",
      "1-boxes are detected. evaluation/detected/brio_36.jpg saved.\n",
      "0-boxes are detected. evaluation/detected/brio_12.jpg saved.\n",
      "0-boxes are detected. evaluation/detected/brio_52.jpg saved.\n",
      "0-boxes are detected. evaluation/detected/brio_70.jpg saved.\n",
      "1-boxes are detected. evaluation/detected/brio_16.jpg saved.\n",
      "0-boxes are detected. evaluation/detected/brio_62.jpg saved.\n",
      "1-boxes are detected. evaluation/detected/brio_8.jpg saved.\n",
      "1-boxes are detected. evaluation/detected/brio_15.jpg saved.\n",
      "1-boxes are detected. evaluation/detected/brio_53.jpg saved.\n",
      "1-boxes are detected. evaluation/detected/brio_63.jpg saved.\n",
      "0-boxes are detected. evaluation/detected/brio_32.jpg saved.\n",
      "1-boxes are detected. evaluation/detected/brio_13.jpg saved.\n",
      "0-boxes are detected. evaluation/detected/brio_51.jpg saved.\n",
      "0-boxes are detected. evaluation/detected/brio_6.jpg saved.\n",
      "1-boxes are detected. evaluation/detected/brio_25.jpg saved.\n",
      "1-boxes are detected. evaluation/detected/brio_39.jpg saved.\n",
      "1-boxes are detected. evaluation/detected/brio_68.jpg saved.\n",
      "1-boxes are detected. evaluation/detected/brio_14.jpg saved.\n",
      "0-boxes are detected. evaluation/detected/brio_58.jpg saved.\n",
      "0-boxes are detected. evaluation/detected/brio_42.jpg saved.\n",
      "1-boxes are detected. evaluation/detected/brio_7.jpg saved.\n",
      "0-boxes are detected. evaluation/detected/brio_72.jpg saved.\n",
      "0-boxes are detected. evaluation/detected/brio_60.jpg saved.\n",
      "1-boxes are detected. evaluation/detected/brio_23.jpg saved.\n",
      "1-boxes are detected. evaluation/detected/brio_50.jpg saved.\n",
      "1-boxes are detected. evaluation/detected/brio_9.jpg saved.\n",
      "1-boxes are detected. evaluation/detected/brio_19.jpg saved.\n",
      "0-boxes are detected. evaluation/detected/brio_31.jpg saved.\n",
      "1-boxes are detected. evaluation/detected/brio_48.jpg saved.\n",
      "1-boxes are detected. evaluation/detected/brio_28.jpg saved.\n",
      "0-boxes are detected. evaluation/detected/brio_55.jpg saved.\n",
      "0-boxes are detected. evaluation/detected/brio_35.jpg saved.\n",
      "1-boxes are detected. evaluation/detected/brio_22.jpg saved.\n",
      "0-boxes are detected. evaluation/detected/brio_59.jpg saved.\n",
      "0-boxes are detected. evaluation/detected/brio_43.jpg saved.\n",
      "1-boxes are detected. evaluation/detected/brio_41.jpg saved.\n",
      "1-boxes are detected. evaluation/detected/brio_46.jpg saved.\n"
     ]
    }
   ],
   "source": [
    "# 2. create yolo instance & predict\n",
    "yolo = create_yolo(config['model']['architecture'],\n",
    "                   config['model']['labels'],\n",
    "                   config['model']['input_size'],\n",
    "                   config['model']['anchors'])\n",
    "yolo.load_weights(DEFAULT_WEIGHT_FILE)\n",
    "\n",
    "# 3. read image\n",
    "write_dname = \"evaluation/detected\"\n",
    "if not os.path.exists(write_dname): os.makedirs(write_dname)\n",
    "annotations = parse_annotation(config['train']['valid_annot_folder'],\n",
    "                               config['train']['valid_image_folder'],\n",
    "                               config['model']['labels'],\n",
    "                               is_only_detect=config['train']['is_only_detect'])\n",
    "\n",
    "#n_true_positives = 0\n",
    "#n_truth = 0\n",
    "#n_pred = 0\n",
    "#for i in range(len(annotations)):\n",
    "for filename in os.listdir('datasets/' + evaluation_object + '/images_test'):\n",
    "    img_path = os.path.join('datasets', evaluation_object, 'images_test', filename)\n",
    "    img_fname = filename\n",
    "    image = cv2.imread(img_path)\n",
    "\n",
    "    boxes, probs = yolo.predict(image, float(DEFAULT_THRESHOLD))\n",
    "    labels = np.argmax(probs, axis=1) if len(probs) > 0 else [] \n",
    "\n",
    "    # 4. save detection result\n",
    "    image = draw_scaled_boxes(image, boxes, probs, config['model']['labels'])\n",
    "    output_path = os.path.join(write_dname, os.path.split(img_fname)[-1])\n",
    "    label_list = config['model']['labels']\n",
    "    #cv2.imwrite(output_path, image)\n",
    "    print(\"{}-boxes are detected. {} saved.\".format(len(boxes), output_path))\n",
    "    if len(probs) > 0:\n",
    "        create_ann(filename,image,boxes,labels,label_list)\n",
    "        cv2.imwrite(output_path, image)\n"
   ]
  },
  {
   "cell_type": "code",
   "execution_count": null,
   "metadata": {},
   "outputs": [],
   "source": []
  }
 ],
 "metadata": {
  "kernelspec": {
   "display_name": "Python 3",
   "language": "python",
   "name": "python3"
  },
  "language_info": {
   "codemirror_mode": {
    "name": "ipython",
    "version": 3
   },
   "file_extension": ".py",
   "mimetype": "text/x-python",
   "name": "python",
   "nbconvert_exporter": "python",
   "pygments_lexer": "ipython3",
   "version": "3.6.8"
  }
 },
 "nbformat": 4,
 "nbformat_minor": 2
}
